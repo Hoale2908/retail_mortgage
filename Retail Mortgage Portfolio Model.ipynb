{
 "cells": [
  {
   "cell_type": "markdown",
   "id": "1260f4c9",
   "metadata": {},
   "source": [
    "# Task 1: Data Quality Assessment & Recommendations"
   ]
  },
  {
   "cell_type": "markdown",
   "id": "b86114e1",
   "metadata": {},
   "source": [
    "The original sample comprises of 1,000 records with 11 variables. Initial observation of the sample indicates that there are missing data and outliers in certain variables which require modification to avoid undesirable impact on the model's result. \n",
    "\n",
    "Specific findings and recommendations for each variable are presented as below. After implementing modifications, there are 939 records (~94% of the original sample) remaining which could be used for the model."
   ]
  },
  {
   "cell_type": "markdown",
   "id": "e27324cc",
   "metadata": {},
   "source": [
    "## 1. Variables not requiring any modifications:\n",
    "\n",
    "There are no missing data or outliers detected in **Application ID** and **Default in 12 Months.** \n",
    "\n",
    "## 2. Variables requiring modifications:\n",
    "\n",
    "**LTV (Loan to Value), Mortgage Value On Application (Estimate), and Amount at Application:**\n",
    "- There are 29 records with missing *LTV* data (denoted by \"99999999.99\") and 10 records with missing *Mortgage Value On Application (Estimate)* data (denoted by \"99999999\"). Additionally, 3 other records have an *LTV* of less than 1% or more than 2400%. As the model's performance depends on the accuracy of *LTV*, it is recommended that these records be removed from the sample.\n",
    "- There are 2 records with negative *LTV* which may have been caused by data entry errors in *Amount at Application* (these values are also negative). We will convert these amounts to positive value. \n",
    "\n",
    "**Date of Application:** \n",
    "- There are 5 records with missing data (0.5% of the sample). *Date of Application* is usually not a direct cause for loan default unless there is a significant economic downturn which can negatively impact a vast number of loan applicants. Therefore, we can impute the missing data with a special value (i.e. \"2015-01-01\") for future reference.  \n",
    "- Records that are dated before 2009-01-01 will be removed from the sample. The remaining records are between 2009-01-01 and 2015-01-01.\n",
    "\n",
    "**Loan Tenor (in months):**\n",
    "- There are 3 records with missing data. Given that it only represent 0.3% of the sample, we can assume that these applicants have a loan tenor equal to the sample's mean and update them accordingly.\n",
    "\n",
    "**Age of Applicant** and **Years in Current Job:**\n",
    "- It follows that applicants should be at least 18 years old. However, there are 83 records where the applicant's age is under 18 and the *Years in Current Job* is exactly 18 years less than *Age of Applicant*, which suggests a substraction was performed for this field rather than gathering the actual information. Since this represents less than 1% of the sample, we will replace *Age of Applicant* with the mean age and the corresponding *Years in Current Job* with \"N/A\". Other records with negative *Years in Current Job* will also be replaced with \"N/A\".\n",
    "\n",
    "**Employment Status, Area,** and **Exposure to Other Banks:**\n",
    "- Missing data in Employment Status, Area, and Exposure to Other Banks accounts for 14.4%, 1%, and 57% of the sample, respectively. These variables can still be helpful to the model, thus it is recommended to fill them with relevant \"Other\" or \"0\"."
   ]
  },
  {
   "cell_type": "code",
   "execution_count": 1,
   "id": "cc92ed25",
   "metadata": {},
   "outputs": [],
   "source": [
    "import pandas as pd\n",
    "import numpy as np\n",
    "import matplotlib.pyplot as plt\n",
    "import seaborn as sns"
   ]
  },
  {
   "cell_type": "code",
   "execution_count": 2,
   "id": "b77410ab",
   "metadata": {},
   "outputs": [],
   "source": [
    "data = pd.read_excel('/Users/hoale/Documents/Risk/data.xlsx', index_col=[])\n",
    "data['Amount at Application'] = data['Amount at Application'].astype(float)\n",
    "data['Loan Tenor (in months)'] = data['Loan Tenor (in months)'].apply(pd.to_numeric, errors='coerce')\n",
    "data['Age of Applicant'] = data['Age of Applicant'].apply(pd.to_numeric, errors='coerce')\n",
    "data['Date of Application'] = data['Date of Application'].astype('datetime64[ns]')\n",
    "original = data.copy()"
   ]
  },
  {
   "cell_type": "code",
   "execution_count": 3,
   "id": "2d1d3269",
   "metadata": {},
   "outputs": [
    {
     "name": "stdout",
     "output_type": "stream",
     "text": [
      "<class 'pandas.core.frame.DataFrame'>\n",
      "Index: 939 entries, 0 to 999\n",
      "Data columns (total 12 columns):\n",
      " #   Column                                    Non-Null Count  Dtype         \n",
      "---  ------                                    --------------  -----         \n",
      " 0   Application ID                            939 non-null    int64         \n",
      " 1   Date of Application                       939 non-null    datetime64[ns]\n",
      " 2   Amount at Application                     939 non-null    float64       \n",
      " 3   Loan Tenor (in months)                    939 non-null    float64       \n",
      " 4   Age of Applicant                          939 non-null    float64       \n",
      " 5   Employment Status                         939 non-null    object        \n",
      " 6   Years in Current Job                      913 non-null    float64       \n",
      " 7   Area                                      939 non-null    object        \n",
      " 8   Mortgage Value On Application (Estimate)  939 non-null    float64       \n",
      " 9   LTV (Loan to Value)                       939 non-null    float64       \n",
      " 10  Exposure to Other Banks                   939 non-null    float64       \n",
      " 11  Default in 12 Months                      939 non-null    int64         \n",
      "dtypes: datetime64[ns](1), float64(7), int64(2), object(2)\n",
      "memory usage: 95.4+ KB\n"
     ]
    }
   ],
   "source": [
    "# LTV & Mortgage Value on Application\n",
    "ltv = data['LTV (Loan to Value)']\n",
    "list1 = data[((ltv<0.1) & (ltv>0)) | (ltv>5)].index.to_list()\n",
    "data.drop(list1, inplace=True)\n",
    "\n",
    "# Date of Application: Filter out records outside of study period\n",
    "data['Date of Application'].fillna('2015-01-01', inplace=True)\n",
    "data = data[data['Date of Application']>='2009-01-01']\n",
    "\n",
    "# Amount at Application: Convert negative amounts to positive amounts\n",
    "data['Amount at Application'] = abs(data['Amount at Application'])\n",
    "data['LTV (Loan to Value)'] = abs(data['LTV (Loan to Value)'])\n",
    "\n",
    "# Loan Tenor: Pass the mean\n",
    "data['Loan Tenor (in months)'].fillna(data['Loan Tenor (in months)'].mean(), inplace=True)\n",
    "\n",
    "# Age of Applicant & Years in Current Job: \n",
    "data.loc[(data['Age of Applicant']<18) | (data['Age of Applicant'].isnull()),'Years in Current Job'] = np.nan\n",
    "data.loc[data['Age of Applicant']<18,'Age of Applicant'] = data['Age of Applicant'].mean()\n",
    "data.loc[data['Age of Applicant'].isnull(),'Age of Applicant'] = data['Age of Applicant'].mean()\n",
    "\n",
    "# Employment Status, Area, & Exposure to Other Banks\n",
    "data['Employment Status'].fillna('Other', inplace=True)\n",
    "data['Area'].fillna('N/A', inplace=True)\n",
    "data['Exposure to Other Banks'].fillna(0, inplace=True)\n",
    "\n",
    "data.info()"
   ]
  },
  {
   "cell_type": "markdown",
   "id": "265a3c22",
   "metadata": {},
   "source": [
    "# Task 2. LTV as an indicator of Loan Default"
   ]
  },
  {
   "cell_type": "markdown",
   "id": "3884a3ab",
   "metadata": {},
   "source": [
    "## 1. Descriptive statistics of LTV"
   ]
  },
  {
   "cell_type": "code",
   "execution_count": 4,
   "id": "e14030d5",
   "metadata": {},
   "outputs": [
    {
     "name": "stdout",
     "output_type": "stream",
     "text": [
      "count    939.000000\n",
      "mean       0.727381\n",
      "std        0.165264\n",
      "min        0.500324\n",
      "25%        0.584224\n",
      "50%        0.696037\n",
      "75%        0.857214\n",
      "max        1.106222\n",
      "Name: LTV (Loan to Value), dtype: float64\n"
     ]
    }
   ],
   "source": [
    "ltv1 = data['LTV (Loan to Value)']\n",
    "print(ltv1.describe())"
   ]
  },
  {
   "cell_type": "code",
   "execution_count": 5,
   "id": "bc1c67c9",
   "metadata": {
    "scrolled": false
   },
   "outputs": [
    {
     "data": {
      "image/png": "[encoded data removed]",
      "text/plain": [
       "<Figure size 640x480 with 2 Axes>"
      ]
     },
     "metadata": {},
     "output_type": "display_data"
    }
   ],
   "source": [
    "import warnings\n",
    "warnings.filterwarnings('ignore')\n",
    "fig, ax = plt.subplots(2, 1, sharex=True)\n",
    "fig.suptitle('Distribution of LTV')\n",
    "sns.histplot(ltv1, bins=100, legend=False, kde=True, ax=ax[0])\n",
    "sns.boxplot(ltv1, orient='h', ax=ax[1], width=.5)\n",
    "plt.show()"
   ]
  },
  {
   "cell_type": "markdown",
   "id": "1f32559a",
   "metadata": {},
   "source": [
    "## 2. Identify relationship between LTV and Default"
   ]
  },
  {
   "cell_type": "markdown",
   "id": "b25b0c27",
   "metadata": {},
   "source": [
    "Since **Default in 12 Months** is a binomial variable, we can use a Logistic Regression model to predict the probability of default (PD) based on LTV."
   ]
  },
  {
   "cell_type": "code",
   "execution_count": 6,
   "id": "255354e6",
   "metadata": {
    "scrolled": true
   },
   "outputs": [
    {
     "name": "stdout",
     "output_type": "stream",
     "text": [
      "Optimization terminated successfully.\n",
      "         Current function value: 0.237277\n",
      "         Iterations 7\n",
      "                            Logit Regression Results                            \n",
      "================================================================================\n",
      "Dep. Variable:     Default in 12 Months   No. Observations:                  939\n",
      "Model:                            Logit   Df Residuals:                      937\n",
      "Method:                             MLE   Df Model:                            1\n",
      "Date:                  Sun, 19 May 2024   Pseudo R-squ.:                0.001194\n",
      "Time:                          14:15:23   Log-Likelihood:                -222.80\n",
      "converged:                         True   LL-Null:                       -223.07\n",
      "Covariance Type:              nonrobust   LLR p-value:                    0.4655\n",
      "=======================================================================================\n",
      "                          coef    std err          z      P>|z|      [0.025      0.975]\n",
      "---------------------------------------------------------------------------------------\n",
      "const                  -3.1118      0.603     -5.163      0.000      -4.293      -1.931\n",
      "LTV (Loan to Value)     0.5819      0.793      0.734      0.463      -0.972       2.135\n",
      "=======================================================================================\n"
     ]
    }
   ],
   "source": [
    "import statsmodels.api as sm\n",
    "X = ltv1\n",
    "y = data['Default in 12 Months']\n",
    "X = sm.add_constant(X)\n",
    "model = sm.Logit(y, X)\n",
    "result = model.fit()\n",
    "print(result.summary())"
   ]
  },
  {
   "cell_type": "markdown",
   "id": "8ea98f07",
   "metadata": {},
   "source": [
    "#### Regression formula: \n",
    "\\begin{align}\n",
    "log \\frac {PD}{1 - PD} = -3.1118 + 0.5819 * LTV\n",
    "\\end{align}\n"
   ]
  },
  {
   "cell_type": "markdown",
   "id": "7fc2b2f4",
   "metadata": {},
   "source": [
    "#### Model robustness:\n",
    "- A Pseudo $R^2$ of *0.001194* indicates that the model has a very low goodness of fit. \n",
    "\n",
    "- With the coefficient's p-value of *0.463*, LTV is not statistically significant at the 5% significance level."
   ]
  },
  {
   "cell_type": "markdown",
   "id": "7d4a1cae",
   "metadata": {},
   "source": [
    "### Conclusion:\n",
    "\n",
    "Although it is not unusual to use LTV as an indicator of PD, the above analysis shows that this variable is not a strong one. Instead of relying solely on LTV, it is suggested that multiple criteria should be considered especially those that are more closely related to an applicant's ability to repay their mortgage loans. Examples include but not limited to stability of disposable income, number of credit lines opened, history of credit card payment, etc.\n",
    "\n",
    "It should also be noted that the above analysis was performed on a small sample and thus, may not be representative. An analysis with a larger dataset is recommended."
   ]
  }
 ],
 "metadata": {
  "kernelspec": {
   "display_name": "Python 3 (ipykernel)",
   "language": "python",
   "name": "python3"
  },
  "language_info": {
   "codemirror_mode": {
    "name": "ipython",
    "version": 3
   },
   "file_extension": ".py",
   "mimetype": "text/x-python",
   "name": "python",
   "nbconvert_exporter": "python",
   "pygments_lexer": "ipython3",
   "version": "3.11.7"
  }
 },
 "nbformat": 4,
 "nbformat_minor": 5
}
